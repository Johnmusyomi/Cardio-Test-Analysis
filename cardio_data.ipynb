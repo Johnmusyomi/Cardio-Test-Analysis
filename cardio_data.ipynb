{
 "cells": [
  {
   "cell_type": "markdown",
   "metadata": {},
   "source": [
    "Analysis of cardio data to answer analysis questions based on provided csv file"
   ]
  },
  {
   "cell_type": "code",
   "execution_count": 1,
   "metadata": {},
   "outputs": [],
   "source": [
    "import pandas as pd  # for data manipulation\n",
    "import numpy as np   # for numerical calculations\n",
    "import matplotlib.pyplot as plt  # for plotting (optional)"
   ]
  },
  {
   "cell_type": "markdown",
   "metadata": {},
   "source": [
    "Import the csv file"
   ]
  },
  {
   "cell_type": "code",
   "execution_count": 3,
   "metadata": {},
   "outputs": [],
   "source": [
    "# Load the dataset\n",
    "file_path = r'C:\\Users\\JOHN M\\Downloads\\Cardio data\\cardio_base.csv'\n",
    "cardio_data = pd.read_csv(file_path)"
   ]
  },
  {
   "cell_type": "markdown",
   "metadata": {},
   "source": [
    "Check top rows to ensure file loaded correctly"
   ]
  },
  {
   "cell_type": "code",
   "execution_count": 4,
   "metadata": {},
   "outputs": [
    {
     "data": {
      "text/html": [
       "<div>\n",
       "<style scoped>\n",
       "    .dataframe tbody tr th:only-of-type {\n",
       "        vertical-align: middle;\n",
       "    }\n",
       "\n",
       "    .dataframe tbody tr th {\n",
       "        vertical-align: top;\n",
       "    }\n",
       "\n",
       "    .dataframe thead th {\n",
       "        text-align: right;\n",
       "    }\n",
       "</style>\n",
       "<table border=\"1\" class=\"dataframe\">\n",
       "  <thead>\n",
       "    <tr style=\"text-align: right;\">\n",
       "      <th></th>\n",
       "      <th>id</th>\n",
       "      <th>age</th>\n",
       "      <th>gender</th>\n",
       "      <th>height</th>\n",
       "      <th>weight</th>\n",
       "      <th>ap_hi</th>\n",
       "      <th>ap_lo</th>\n",
       "      <th>cholesterol</th>\n",
       "      <th>smoke</th>\n",
       "    </tr>\n",
       "  </thead>\n",
       "  <tbody>\n",
       "    <tr>\n",
       "      <th>0</th>\n",
       "      <td>0</td>\n",
       "      <td>18393</td>\n",
       "      <td>2</td>\n",
       "      <td>168</td>\n",
       "      <td>62.0</td>\n",
       "      <td>110</td>\n",
       "      <td>80</td>\n",
       "      <td>1</td>\n",
       "      <td>0</td>\n",
       "    </tr>\n",
       "    <tr>\n",
       "      <th>1</th>\n",
       "      <td>1</td>\n",
       "      <td>20228</td>\n",
       "      <td>1</td>\n",
       "      <td>156</td>\n",
       "      <td>85.0</td>\n",
       "      <td>140</td>\n",
       "      <td>90</td>\n",
       "      <td>3</td>\n",
       "      <td>0</td>\n",
       "    </tr>\n",
       "    <tr>\n",
       "      <th>2</th>\n",
       "      <td>2</td>\n",
       "      <td>18857</td>\n",
       "      <td>1</td>\n",
       "      <td>165</td>\n",
       "      <td>64.0</td>\n",
       "      <td>130</td>\n",
       "      <td>70</td>\n",
       "      <td>3</td>\n",
       "      <td>0</td>\n",
       "    </tr>\n",
       "    <tr>\n",
       "      <th>3</th>\n",
       "      <td>3</td>\n",
       "      <td>17623</td>\n",
       "      <td>2</td>\n",
       "      <td>169</td>\n",
       "      <td>82.0</td>\n",
       "      <td>150</td>\n",
       "      <td>100</td>\n",
       "      <td>1</td>\n",
       "      <td>0</td>\n",
       "    </tr>\n",
       "    <tr>\n",
       "      <th>4</th>\n",
       "      <td>4</td>\n",
       "      <td>17474</td>\n",
       "      <td>1</td>\n",
       "      <td>156</td>\n",
       "      <td>56.0</td>\n",
       "      <td>100</td>\n",
       "      <td>60</td>\n",
       "      <td>1</td>\n",
       "      <td>0</td>\n",
       "    </tr>\n",
       "  </tbody>\n",
       "</table>\n",
       "</div>"
      ],
      "text/plain": [
       "   id    age  gender  height  weight  ap_hi  ap_lo  cholesterol  smoke\n",
       "0   0  18393       2     168    62.0    110     80            1      0\n",
       "1   1  20228       1     156    85.0    140     90            3      0\n",
       "2   2  18857       1     165    64.0    130     70            3      0\n",
       "3   3  17623       2     169    82.0    150    100            1      0\n",
       "4   4  17474       1     156    56.0    100     60            1      0"
      ]
     },
     "execution_count": 4,
     "metadata": {},
     "output_type": "execute_result"
    }
   ],
   "source": [
    "# Display the first few rows\n",
    "cardio_data.head()"
   ]
  },
  {
   "cell_type": "markdown",
   "metadata": {},
   "source": [
    "Format columns, transform data"
   ]
  },
  {
   "cell_type": "code",
   "execution_count": 5,
   "metadata": {},
   "outputs": [],
   "source": [
    "# Convert age from days to years and round down\n",
    "cardio_data['age_years'] = (cardio_data['age'] / 365).astype(int)"
   ]
  },
  {
   "cell_type": "code",
   "execution_count": 7,
   "metadata": {},
   "outputs": [],
   "source": [
    "# Group by age in years and calculate the mean weight\n",
    "age_weight_group = cardio_data.groupby('age_years')['weight'].mean()"
   ]
  },
  {
   "cell_type": "markdown",
   "metadata": {},
   "source": [
    "Find the Age Groups with Highest and Lowest Average Weights"
   ]
  },
  {
   "cell_type": "code",
   "execution_count": 8,
   "metadata": {},
   "outputs": [
    {
     "name": "stdout",
     "output_type": "stream",
     "text": [
      "The age group with the highest average weight is 63 years.\n",
      "The age group with the lowest average weight is 30 years.\n",
      "The difference in average weight is 16.87 kg.\n"
     ]
    }
   ],
   "source": [
    "# Find age group with the highest and lowest average weight\n",
    "max_weight_age_group = age_weight_group.idxmax()\n",
    "min_weight_age_group = age_weight_group.idxmin()\n",
    "\n",
    "# Find the corresponding average weights\n",
    "max_avg_weight = age_weight_group.max()\n",
    "min_avg_weight = age_weight_group.min()\n",
    "\n",
    "# Calculate the difference\n",
    "weight_difference = max_avg_weight - min_avg_weight\n",
    "\n",
    "print(f\"The age group with the highest average weight is {max_weight_age_group} years.\")\n",
    "print(f\"The age group with the lowest average weight is {min_weight_age_group} years.\")\n",
    "print(f\"The difference in average weight is {weight_difference:.2f} kg.\")"
   ]
  },
  {
   "cell_type": "markdown",
   "metadata": {},
   "source": [
    "Calculate the differnce in percentage"
   ]
  },
  {
   "cell_type": "code",
   "execution_count": 9,
   "metadata": {},
   "outputs": [
    {
     "name": "stdout",
     "output_type": "stream",
     "text": [
      "The difference in average weight is 16.87 kg.\n",
      "The percentage difference between the highest and lowest average weight is 28.60%.\n"
     ]
    }
   ],
   "source": [
    "# Calculate the percentage difference\n",
    "percentage_difference = ((max_avg_weight - min_avg_weight) / min_avg_weight) * 100\n",
    "\n",
    "# Display the result\n",
    "print(f\"The difference in average weight is {weight_difference:.2f} kg.\")\n",
    "print(f\"The percentage difference between the highest and lowest average weight is {percentage_difference:.2f}%.\")"
   ]
  },
  {
   "cell_type": "markdown",
   "metadata": {},
   "source": [
    "Question 2: Do people over 50  have more cholesterol levels than the rest?"
   ]
  },
  {
   "cell_type": "code",
   "execution_count": 10,
   "metadata": {},
   "outputs": [
    {
     "name": "stdout",
     "output_type": "stream",
     "text": [
      "Average cholesterol for people over 50: 1.43\n",
      "Average cholesterol for people 50 or younger: 1.25\n",
      "People over 50 have higher average cholesterol than those 50 or younger.\n"
     ]
    }
   ],
   "source": [
    "# Create a new column to classify people as over 50 or not\n",
    "cardio_data['age_over_50'] = cardio_data['age_years'] > 50\n",
    "\n",
    "# Group the data by this new column and calculate the mean cholesterol level\n",
    "cholesterol_comparison = cardio_data.groupby('age_over_50')['cholesterol'].mean()\n",
    "\n",
    "# Extract the cholesterol levels for both groups\n",
    "cholesterol_over_50 = cholesterol_comparison[True]\n",
    "cholesterol_under_or_equal_50 = cholesterol_comparison[False]\n",
    "\n",
    "# Display the results\n",
    "print(f\"Average cholesterol for people over 50: {cholesterol_over_50:.2f}\")\n",
    "print(f\"Average cholesterol for people 50 or younger: {cholesterol_under_or_equal_50:.2f}\")\n",
    "\n",
    "# Compare the two\n",
    "if cholesterol_over_50 > cholesterol_under_or_equal_50:\n",
    "    print(\"People over 50 have higher average cholesterol than those 50 or younger.\")\n",
    "else:\n",
    "    print(\"People over 50 do not have higher average cholesterol than those 50 or younger.\")"
   ]
  },
  {
   "cell_type": "markdown",
   "metadata": {},
   "source": [
    "Convert the difference to percentage"
   ]
  },
  {
   "cell_type": "code",
   "execution_count": 12,
   "metadata": {},
   "outputs": [
    {
     "name": "stdout",
     "output_type": "stream",
     "text": [
      "Average cholesterol for people over 50: 1.43\n",
      "Average cholesterol for people 50 or younger: 1.25\n",
      "The percentage difference in cholesterol between the two groups is 14.69%\n",
      "People over 50 have higher average cholesterol than those 50 or younger.\n"
     ]
    }
   ],
   "source": [
    "# Create a new column to classify people as over 50 or not\n",
    "cardio_data['age_over_50'] = cardio_data['age_years'] > 50\n",
    "\n",
    "# Group the data by this new column and calculate the mean cholesterol level\n",
    "cholesterol_comparison = cardio_data.groupby('age_over_50')['cholesterol'].mean()\n",
    "\n",
    "# Extract the cholesterol levels for both groups\n",
    "cholesterol_over_50 = cholesterol_comparison[True]\n",
    "cholesterol_under_or_equal_50 = cholesterol_comparison[False]\n",
    "\n",
    "# Calculate the percentage difference in cholesterol\n",
    "cholesterol_percentage_difference = (cholesterol_over_50 - cholesterol_under_or_equal_50) / cholesterol_under_or_equal_50 * 100\n",
    "\n",
    "# Display the results\n",
    "print(f\"Average cholesterol for people over 50: {cholesterol_over_50:.2f}\")\n",
    "print(f\"Average cholesterol for people 50 or younger: {cholesterol_under_or_equal_50:.2f}\")\n",
    "print(f\"The percentage difference in cholesterol between the two groups is {cholesterol_percentage_difference:.2f}%\")\n",
    "\n",
    "# Compare the two\n",
    "if cholesterol_over_50 > cholesterol_under_or_equal_50:\n",
    "    print(\"People over 50 have higher average cholesterol than those 50 or younger.\")\n",
    "else:\n",
    "    print(\"People over 50 do not have higher average cholesterol than those 50 or younger.\")"
   ]
  },
  {
   "cell_type": "markdown",
   "metadata": {},
   "source": [
    "Question 3: Are men more likely to smoke than women based on gender ID's ?"
   ]
  },
  {
   "cell_type": "code",
   "execution_count": 15,
   "metadata": {},
   "outputs": [
    {
     "name": "stdout",
     "output_type": "stream",
     "text": [
      "Percentage of smokers among men: 1.79%\n",
      "Percentage of smokers among women: 21.89%\n",
      "Women are more likely to be smokers than men.\n"
     ]
    }
   ],
   "source": [
    "# Load the dataset (ensure the correct path)\n",
    "import pandas as pd\n",
    "\n",
    "cardio_data = pd.read_csv(r'C:\\Users\\JOHN M\\Downloads\\Cardio data\\cardio_base.csv')\n",
    "\n",
    "# Group by gender and calculate the percentage of smokers\n",
    "smoking_comparison = cardio_data.groupby('gender')['smoke'].mean() * 100\n",
    "\n",
    "# Display results\n",
    "print(f\"Percentage of smokers among men: {smoking_comparison.get(1, 0):.2f}%\")  # Assuming 1 represents male\n",
    "print(f\"Percentage of smokers among women: {smoking_comparison.get(2, 0):.2f}%\")  # Assuming 2 represents female\n",
    "\n",
    "# Compare the two\n",
    "if smoking_comparison.get(1, 0) > smoking_comparison.get(2, 0):\n",
    "    print(\"Men are more likely to be smokers than women.\")\n",
    "else:\n",
    "    print(\"Women are more likely to be smokers than men.\")"
   ]
  },
  {
   "cell_type": "markdown",
   "metadata": {},
   "source": [
    "Question 4: How tall are the tallest 1% of people?"
   ]
  },
  {
   "cell_type": "code",
   "execution_count": 16,
   "metadata": {},
   "outputs": [
    {
     "name": "stdout",
     "output_type": "stream",
     "text": [
      "The height of the tallest 1% of people is: 184.00 cm\n"
     ]
    }
   ],
   "source": [
    "# Load the dataset (ensure the correct path)\n",
    "cardio_data = pd.read_csv(r'C:\\Users\\JOHN M\\Downloads\\Cardio data\\cardio_base.csv')\n",
    "\n",
    "# Calculate the height threshold for the tallest 1%\n",
    "height_threshold = cardio_data['height'].quantile(0.99)\n",
    "\n",
    "# Display the result\n",
    "print(f\"The height of the tallest 1% of people is: {height_threshold:.2f} cm\")"
   ]
  },
  {
   "cell_type": "markdown",
   "metadata": {},
   "source": [
    "Question 5: which 2 features have the highest spearman rank correlation?"
   ]
  },
  {
   "cell_type": "code",
   "execution_count": 18,
   "metadata": {},
   "outputs": [
    {
     "name": "stdout",
     "output_type": "stream",
     "text": [
      "The two features with the highest Spearman rank correlation are: ap_hi and ap_lo with a correlation of 0.74\n"
     ]
    }
   ],
   "source": [
    "# Calculate the Spearman correlation matrix\n",
    "spearman_corr = cardio_data.corr(method='spearman')\n",
    "\n",
    "# Stack the correlation matrix to find pairs of features and their correlation values\n",
    "correlation_pairs = spearman_corr.stack()\n",
    "\n",
    "# Remove self-correlations\n",
    "correlation_pairs = correlation_pairs[correlation_pairs.index.get_level_values(0) != correlation_pairs.index.get_level_values(1)]\n",
    "\n",
    "# Get the maximum correlation and its corresponding feature pair\n",
    "max_corr = correlation_pairs.idxmax()  # Get the index of the max correlation\n",
    "max_value = correlation_pairs.max()  # Get the max correlation value\n",
    "\n",
    "# Display the results\n",
    "print(f\"The two features with the highest Spearman rank correlation are: {max_corr[0]} and {max_corr[1]} with a correlation of {max_value:.2f}\")"
   ]
  },
  {
   "cell_type": "markdown",
   "metadata": {},
   "source": [
    "Question 6: What percentage of people are more than 2 standard deviations far from the average height?"
   ]
  },
  {
   "cell_type": "code",
   "execution_count": 19,
   "metadata": {},
   "outputs": [
    {
     "name": "stdout",
     "output_type": "stream",
     "text": [
      "Percentage of people more than 2 standard deviations away from the average height: 3.34%\n"
     ]
    }
   ],
   "source": [
    "# Calculate the mean and standard deviation of height\n",
    "mean_height = cardio_data['height'].mean()\n",
    "std_dev_height = cardio_data['height'].std()\n",
    "\n",
    "# Calculate the thresholds for more than 2 standard deviations from the mean\n",
    "lower_threshold = mean_height - 2 * std_dev_height\n",
    "upper_threshold = mean_height + 2 * std_dev_height\n",
    "\n",
    "# Count the number of people outside these thresholds\n",
    "count_outside = cardio_data[(cardio_data['height'] < lower_threshold) | (cardio_data['height'] > upper_threshold)].shape[0]\n",
    "\n",
    "# Calculate the total number of people\n",
    "total_count = cardio_data.shape[0]\n",
    "\n",
    "# Calculate the percentage\n",
    "percentage_outside = (count_outside / total_count) * 100\n",
    "\n",
    "# Display the result\n",
    "print(f\"Percentage of people more than 2 standard deviations away from the average height: {percentage_outside:.2f}%\")"
   ]
  },
  {
   "cell_type": "markdown",
   "metadata": {},
   "source": [
    "Question 7: What percentage of the population over 50 years old consume alcohol?\n",
    "\n",
    "_Also use the cardio alco.csv and merge the datasets on ID. Ignore those persons, where we have no alcohol consumption information!_"
   ]
  },
  {
   "cell_type": "code",
   "execution_count": 34,
   "metadata": {},
   "outputs": [
    {
     "name": "stdout",
     "output_type": "stream",
     "text": [
      "Cardio Data Head:\n",
      "   id    age  gender  height  weight  ap_hi  ap_lo  cholesterol  smoke\n",
      "0   0  18393       2     168    62.0    110     80            1      0\n",
      "1   1  20228       1     156    85.0    140     90            3      0\n",
      "2   2  18857       1     165    64.0    130     70            3      0\n",
      "3   3  17623       2     169    82.0    150    100            1      0\n",
      "4   4  17474       1     156    56.0    100     60            1      0\n",
      "Cardio Alco Data Head:\n",
      "   id  alco\n",
      "0  44     0\n",
      "1  45     0\n",
      "2  46     0\n",
      "3  47     0\n",
      "4  49     0\n",
      "Cardio Data Columns:\n",
      "Index(['id', 'age', 'gender', 'height', 'weight', 'ap_hi', 'ap_lo',\n",
      "       'cholesterol', 'smoke'],\n",
      "      dtype='object')\n",
      "Cardio Alco Data Columns:\n",
      "Index(['alco_id', 'alco'], dtype='object')\n",
      "Percentage of people over 50 who consume alcohol: 5.34%\n"
     ]
    }
   ],
   "source": [
    "# Load the cardio data\n",
    "cardio_data = pd.read_csv(r'C:\\Users\\JOHN M\\Downloads\\Cardio data\\cardio_base.csv')\n",
    "\n",
    "# Load the alcohol data using the correct separator\n",
    "cardio_alco_data = pd.read_csv(r'C:\\Users\\JOHN M\\Downloads\\Cardio data\\cardio_alco.csv', sep=';')\n",
    "\n",
    "# Display the first few rows and columns to confirm it loaded correctly\n",
    "print(\"Cardio Data Head:\")\n",
    "print(cardio_data.head())\n",
    "print(\"Cardio Alco Data Head:\")\n",
    "print(cardio_alco_data.head())\n",
    "\n",
    "# Rename the column to 'alco_id'\n",
    "cardio_alco_data.rename(columns={'id': 'alco_id'}, inplace=True)\n",
    "\n",
    "# Check the columns of both DataFrames to confirm the names\n",
    "print(\"Cardio Data Columns:\")\n",
    "print(cardio_data.columns)\n",
    "print(\"Cardio Alco Data Columns:\")\n",
    "print(cardio_alco_data.columns)\n",
    "\n",
    "# Merge the datasets on 'id' and 'alco_id'\n",
    "merged_data = pd.merge(cardio_data, cardio_alco_data, left_on='id', right_on='alco_id', how='inner')\n",
    "\n",
    "# Filter for individuals over 50 years old\n",
    "over_50_data = merged_data[merged_data['age'] > 50]\n",
    "\n",
    "# Calculate the percentage of individuals who consume alcohol (alco = 1)\n",
    "alcohol_consumption_percentage = (over_50_data['alco'] == 1).mean() * 100\n",
    "\n",
    "# Display the result\n",
    "print(f\"Percentage of people over 50 who consume alcohol: {alcohol_consumption_percentage:.2f}%\")\n"
   ]
  },
  {
   "cell_type": "markdown",
   "metadata": {},
   "source": [
    "Question 8: Which of the following is true with 95% confidence?\n",
    "\n",
    "Smokers have higher cholesterol level than non smokers\n",
    "\n",
    "Smokers weight less than non smokers\n",
    "\n",
    "Men have higher blood pressure than women\n",
    "\n",
    "Smokers have higher blood pressure than non-smokers"
   ]
  },
  {
   "cell_type": "markdown",
   "metadata": {},
   "source": [
    "_To determine which of the statements is true with 95% confidence, you would typically conduct statistical tests (like t-tests or ANOVA) on the relevant data to compare the groups for each statement. Below is an outline of how you might approach verifying these statements statistically, assuming you have access to the relevant data:_\n",
    "\n",
    "Smokers have higher cholesterol levels than non-smokers:\n",
    "\n",
    "Test: Compare the mean cholesterol levels between smokers and non-smokers using a t-test.\n",
    "Hypothesis: Null hypothesis (H0): There is no difference in cholesterol levels. Alternative hypothesis (H1): Smokers have higher cholesterol levels.\n",
    "Confidence Interval: Calculate the 95% confidence interval for the difference in means.\n",
    "Smokers weigh less than non-smokers:\n",
    "\n",
    "Test: Compare the mean weights between smokers and non-smokers using a t-test.\n",
    "Hypothesis: H0: There is no difference in weight. H1: Smokers weigh less than non-smokers.\n",
    "Confidence Interval: Calculate the 95% confidence interval for the difference in means.\n",
    "Men have higher blood pressure than women:\n",
    "\n",
    "Test: Compare the mean blood pressure readings between men and women using a t-test.\n",
    "Hypothesis: H0: There is no difference in blood pressure. H1: Men have higher blood pressure than women.\n",
    "Confidence Interval: Calculate the 95% confidence interval for the difference in means.\n",
    "Smokers have higher blood pressure than non-smokers:\n",
    "\n",
    "Test: Compare the mean blood pressure readings between smokers and non-smokers using a t-test.\n",
    "Hypothesis: H0: There is no difference in blood pressure. H1: Smokers have higher blood pressure than non-smokers.\n",
    "Confidence Interval: Calculate the 95% confidence interval for the difference in means._"
   ]
  },
  {
   "cell_type": "code",
   "execution_count": 36,
   "metadata": {},
   "outputs": [
    {
     "name": "stdout",
     "output_type": "stream",
     "text": [
      "Hypothesis 1: Smokers have higher cholesterol level than non-smokers: True\n",
      "Hypothesis 2: Smokers weigh less than non-smokers: True\n",
      "Hypothesis 3: Men have higher blood pressure than women: False\n",
      "Hypothesis 4: Smokers have higher blood pressure than non-smokers: False\n"
     ]
    }
   ],
   "source": [
    "import pandas as pd\n",
    "import scipy.stats as stats\n",
    "\n",
    "# Load the dataset\n",
    "data = pd.read_csv(r'C:\\Users\\JOHN M\\Downloads\\Cardio data\\cardio_base.csv')\n",
    "\n",
    "# Create boolean series for smokers and non-smokers\n",
    "smokers = data[data['smoke'] == 1]\n",
    "non_smokers = data[data['smoke'] == 0]\n",
    "\n",
    "# Hypothesis 1: Smokers have higher cholesterol level than non-smokers\n",
    "smokers_cholesterol = smokers['cholesterol']\n",
    "non_smokers_cholesterol = non_smokers['cholesterol']\n",
    "t_stat_chol, p_value_chol = stats.ttest_ind(smokers_cholesterol, non_smokers_cholesterol)\n",
    "confidence_chol = p_value_chol < 0.05\n",
    "\n",
    "# Hypothesis 2: Smokers weigh less than non-smokers\n",
    "smokers_weight = smokers['weight']\n",
    "non_smokers_weight = non_smokers['weight']\n",
    "t_stat_weight, p_value_weight = stats.ttest_ind(smokers_weight, non_smokers_weight)\n",
    "confidence_weight = p_value_weight < 0.05\n",
    "\n",
    "# Hypothesis 3: Men have higher blood pressure than women\n",
    "men_bp = data[data['gender'] == 1]['ap_hi']\n",
    "women_bp = data[data['gender'] == 2]['ap_hi']\n",
    "t_stat_bp, p_value_bp = stats.ttest_ind(men_bp, women_bp)\n",
    "confidence_bp = p_value_bp < 0.05\n",
    "\n",
    "# Hypothesis 4: Smokers have higher blood pressure than non-smokers\n",
    "smokers_bp = smokers['ap_hi']\n",
    "non_smokers_bp = non_smokers['ap_hi']\n",
    "t_stat_smoker_bp, p_value_smoker_bp = stats.ttest_ind(smokers_bp, non_smokers_bp)\n",
    "confidence_smoker_bp = p_value_smoker_bp < 0.05\n",
    "\n",
    "# Output the results\n",
    "print(\"Hypothesis 1: Smokers have higher cholesterol level than non-smokers:\", confidence_chol)\n",
    "print(\"Hypothesis 2: Smokers weigh less than non-smokers:\", confidence_weight)\n",
    "print(\"Hypothesis 3: Men have higher blood pressure than women:\", confidence_bp)\n",
    "print(\"Hypothesis 4: Smokers have higher blood pressure than non-smokers:\", confidence_smoker_bp)\n"
   ]
  },
  {
   "cell_type": "markdown",
   "metadata": {},
   "source": [
    "2nd Dataset: Covid_data.csv"
   ]
  },
  {
   "cell_type": "markdown",
   "metadata": {},
   "source": [
    "Question 9: When did the differenice in the total number of confirmed cases between Italy and Germany become more than 10 000"
   ]
  },
  {
   "cell_type": "code",
   "execution_count": 37,
   "metadata": {},
   "outputs": [
    {
     "name": "stdout",
     "output_type": "stream",
     "text": [
      "      location        date  new_cases  new_deaths  population  \\\n",
      "0  Afghanistan  2019-12-31          0           0  38928341.0   \n",
      "1  Afghanistan  2020-01-01          0           0  38928341.0   \n",
      "2  Afghanistan  2020-01-02          0           0  38928341.0   \n",
      "3  Afghanistan  2020-01-03          0           0  38928341.0   \n",
      "4  Afghanistan  2020-01-04          0           0  38928341.0   \n",
      "\n",
      "   aged_65_older_percent  gdp_per_capita  hospital_beds_per_thousand  \n",
      "0                  2.581        1803.987                         0.5  \n",
      "1                  2.581        1803.987                         0.5  \n",
      "2                  2.581        1803.987                         0.5  \n",
      "3                  2.581        1803.987                         0.5  \n",
      "4                  2.581        1803.987                         0.5  \n"
     ]
    }
   ],
   "source": [
    "# Load the COVID-19 dataset\n",
    "# Update the path to your dataset file\n",
    "covid_data = pd.read_csv(r'C:\\Users\\JOHN M\\Downloads\\Cardio data\\covid_data.csv')\n",
    "\n",
    "# Display the first few rows to confirm it loaded correctly\n",
    "print(covid_data.head())"
   ]
  },
  {
   "cell_type": "code",
   "execution_count": 41,
   "metadata": {},
   "outputs": [
    {
     "name": "stdout",
     "output_type": "stream",
     "text": [
      "The difference in the total number of confirmed cases between Italy and Germany became more than 10,000 on: 2020-03-12\n"
     ]
    }
   ],
   "source": [
    "# Filter for Italy and Germany\n",
    "italy_data = covid_data[covid_data['location'] == 'Italy'].copy()\n",
    "germany_data = covid_data[covid_data['location'] == 'Germany'].copy()\n",
    "\n",
    "# Convert the date column to datetime format\n",
    "italy_data['date'] = pd.to_datetime(italy_data['date'])\n",
    "germany_data['date'] = pd.to_datetime(germany_data['date'])\n",
    "\n",
    "# Set the date as the index\n",
    "italy_data.set_index('date', inplace=True)\n",
    "germany_data.set_index('date', inplace=True)\n",
    "\n",
    "# Calculate cumulative cases for Italy\n",
    "italy_data['total_cases'] = italy_data['new_cases'].cumsum()\n",
    "\n",
    "# Calculate cumulative cases for Germany\n",
    "germany_data['total_cases'] = germany_data['new_cases'].cumsum()\n",
    "\n",
    "# Merge the two datasets on the date index\n",
    "merged_data = pd.merge(italy_data[['total_cases']], germany_data[['total_cases']], \n",
    "                       left_index=True, right_index=True, suffixes=('_Italy', '_Germany'))\n",
    "\n",
    "# Calculate the difference in total confirmed cases\n",
    "merged_data['case_difference'] = merged_data['total_cases_Italy'] - merged_data['total_cases_Germany']\n",
    "\n",
    "# Find the first date where the difference exceeded 10,000\n",
    "date_exceeding_10000 = merged_data[merged_data['case_difference'] > 10000].index.min()\n",
    "\n",
    "# Display the result\n",
    "if date_exceeding_10000 is not None:\n",
    "    print(f\"The difference in the total number of confirmed cases between Italy and Germany became more than 10,000 on: {date_exceeding_10000.date()}\")\n",
    "else:\n",
    "    print(\"The difference never exceeded 10,000 cases.\")"
   ]
  },
  {
   "cell_type": "markdown",
   "metadata": {},
   "source": [
    "Question 10: Look at the cumulative number of confirmed cases in Italy between 2020-02-28 and 2020-03-20. Fit an exponential function (Ae^(Bx)) to this set to express cumulative cases as a function of days passed, by minimizing squared loss.\n",
    "\n",
    "What is the difference between the exponential curve and the total number of real cases on 2020-03-207"
   ]
  },
  {
   "cell_type": "code",
   "execution_count": 42,
   "metadata": {},
   "outputs": [
    {
     "name": "stderr",
     "output_type": "stream",
     "text": [
      "C:\\Users\\JOHN M\\AppData\\Local\\Temp\\ipykernel_13712\\2161348383.py:6: SettingWithCopyWarning: \n",
      "A value is trying to be set on a copy of a slice from a DataFrame.\n",
      "Try using .loc[row_indexer,col_indexer] = value instead\n",
      "\n",
      "See the caveats in the documentation: https://pandas.pydata.org/pandas-docs/stable/user_guide/indexing.html#returning-a-view-versus-a-copy\n",
      "  italy_data['date'] = pd.to_datetime(italy_data['date'])\n"
     ]
    },
    {
     "name": "stdout",
     "output_type": "stream",
     "text": [
      "Predicted cumulative cases on 2020-03-20: 42346.69\n",
      "Actual cumulative cases on 2020-03-20: 40635\n",
      "Difference: 1711.69\n"
     ]
    },
    {
     "data": {
      "image/png": "[encoded data removed]",
      "text/plain": [
       "<Figure size 1000x600 with 1 Axes>"
      ]
     },
     "metadata": {},
     "output_type": "display_data"
    }
   ],
   "source": [
    "import matplotlib.pyplot as plt\n",
    "from scipy.optimize import curve_fit\n",
    "\n",
    "# Filter for Italy and the specific date range\n",
    "italy_data = covid_data[covid_data['location'] == 'Italy']\n",
    "italy_data['date'] = pd.to_datetime(italy_data['date'])\n",
    "italy_data = italy_data[(italy_data['date'] >= '2020-02-28') & (italy_data['date'] <= '2020-03-20')]\n",
    "\n",
    "# Calculate cumulative cases\n",
    "italy_data['total_cases'] = italy_data['new_cases'].cumsum()\n",
    "\n",
    "# Prepare x and y for curve fitting\n",
    "x_data = (italy_data['date'] - italy_data['date'].min()).dt.days.values  # Days since first date\n",
    "y_data = italy_data['total_cases'].values\n",
    "\n",
    "# Define the exponential function\n",
    "def exponential_func(x, A, B):\n",
    "    return A * np.exp(B * x)\n",
    "\n",
    "# Fit the exponential curve\n",
    "params, covariance = curve_fit(exponential_func, x_data, y_data)\n",
    "\n",
    "# Calculate the predicted cumulative cases for 2020-03-20 (x = days from start)\n",
    "days_from_start = (pd.to_datetime('2020-03-20') - italy_data['date'].min()).days\n",
    "predicted_cases = exponential_func(days_from_start, *params)\n",
    "\n",
    "# Get the actual cases on 2020-03-20\n",
    "actual_cases_on_2020_03_20 = italy_data[italy_data['date'] == '2020-03-20']['total_cases'].values[0]\n",
    "\n",
    "# Calculate the difference\n",
    "difference = predicted_cases - actual_cases_on_2020_03_20\n",
    "\n",
    "# Output the results\n",
    "print(f\"Predicted cumulative cases on 2020-03-20: {predicted_cases:.2f}\")\n",
    "print(f\"Actual cumulative cases on 2020-03-20: {actual_cases_on_2020_03_20}\")\n",
    "print(f\"Difference: {difference:.2f}\")\n",
    "\n",
    "# Plotting the data and the fitted curve for visualization\n",
    "plt.figure(figsize=(10, 6))\n",
    "plt.scatter(x_data, y_data, label='Actual Cases', color='blue')\n",
    "plt.plot(x_data, exponential_func(x_data, *params), label='Fitted Exponential Curve', color='red')\n",
    "plt.title('Cumulative COVID-19 Cases in Italy (Exponential Fit)')\n",
    "plt.xlabel('Days since 2020-02-28')\n",
    "plt.ylabel('Cumulative Cases')\n",
    "plt.xticks(ticks=np.arange(0, max(x_data)+1, 2), labels=[f'{(italy_data[\"date\"].min() + pd.Timedelta(days=i)).date()}' for i in range(0, max(x_data)+1, 2)], rotation=45)\n",
    "plt.legend()\n",
    "plt.grid()\n",
    "plt.tight_layout()\n",
    "plt.show()\n"
   ]
  }
 ],
 "metadata": {
  "kernelspec": {
   "display_name": "Python 3",
   "language": "python",
   "name": "python3"
  },
  "language_info": {
   "codemirror_mode": {
    "name": "ipython",
    "version": 3
   },
   "file_extension": ".py",
   "mimetype": "text/x-python",
   "name": "python",
   "nbconvert_exporter": "python",
   "pygments_lexer": "ipython3",
   "version": "3.12.4"
  }
 },
 "nbformat": 4,
 "nbformat_minor": 2
}
